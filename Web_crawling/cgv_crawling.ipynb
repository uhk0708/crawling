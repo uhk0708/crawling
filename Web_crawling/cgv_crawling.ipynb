{
 "cells": [
  {
   "cell_type": "code",
   "execution_count": 1,
   "id": "c0368822-9f81-411e-b4a7-18f97d89771a",
   "metadata": {},
   "outputs": [],
   "source": [
    "from selenium import webdriver as wb\n",
    "from bs4 import BeautifulSoup as bs\n",
    "import time\n",
    "from selenium.webdriver.common.by import By"
   ]
  },
  {
   "cell_type": "code",
   "execution_count": 2,
   "id": "8a8df3c5-7232-4553-ab3b-da6e2a45741a",
   "metadata": {},
   "outputs": [],
   "source": [
    "driver = wb.Chrome()\n",
    "driver.get(\"url\")"
   ]
  },
  {
   "cell_type": "code",
   "execution_count": 3,
   "id": "48cf0085-2ea7-461e-a9fc-09b886f7d7a7",
   "metadata": {},
   "outputs": [],
   "source": [
    "search = driver.find_element(By.CSS_SELECTOR, \"#header_keyword\")\n",
    "search.click()"
   ]
  },
  {
   "cell_type": "code",
   "execution_count": 4,
   "id": "9fc4fdaa-e4e1-4a2a-b8bb-6d3959e2ca1e",
   "metadata": {},
   "outputs": [],
   "source": [
    "search.send_keys(\"title\")"
   ]
  },
  {
   "cell_type": "code",
   "execution_count": 5,
   "id": "87bd2795-b013-4b22-855a-30ec9cbc60af",
   "metadata": {},
   "outputs": [],
   "source": [
    "search_Btn = driver.find_element(By.CSS_SELECTOR, \"#btn_header_search\")\n",
    "search_Btn.click()"
   ]
  },
  {
   "cell_type": "code",
   "execution_count": 6,
   "id": "dacdf6d6-9e23-4b61-a992-e2684842eb51",
   "metadata": {},
   "outputs": [],
   "source": [
    "info_Btn = driver.find_element(By.CSS_SELECTOR, \".btn_borderStyle1\")\n",
    "info_Btn.click()"
   ]
  },
  {
   "cell_type": "code",
   "execution_count": 7,
   "id": "89746fe7-82c6-4f3b-b64d-81ed11171e71",
   "metadata": {},
   "outputs": [],
   "source": [
    "from tqdm.notebook import tqdm as tq"
   ]
  },
  {
   "cell_type": "markdown",
   "id": "f1b35c9e-f86c-4fc8-9c8d-aa1bb0f6b676",
   "metadata": {},
   "source": [
    "# 리뷰 데이터 확인\n",
    "\n",
    "- 테스트용"
   ]
  },
  {
   "cell_type": "code",
   "execution_count": 1,
   "id": "15c3eeb9-1940-4391-898e-5946614471af",
   "metadata": {},
   "outputs": [],
   "source": [
    "# 페이지 이동 함수\n",
    "def move_to_page(page_number):\n",
    "    try:\n",
    "        page_link = driver.find_element(By.XPATH, f\"//a[text()='{page_number}']\")\n",
    "        page_link.click()\n",
    "        time.sleep(2)  # 페이지 로딩을 기다립니다.\n",
    "        return True\n",
    "    except Exception as e:\n",
    "        print(f\"{page_number}페이지 이동 실패: {e}\")\n",
    "        return False\n",
    "\n",
    "# 페이지 이동 및 데이터 수집\n",
    "page_number = 1\n",
    "while page_number <= #마지막 페이지 숫자 입력:\n",
    "    if move_to_page(page_number):\n",
    "        # 현재 페이지의 리뷰 수집\n",
    "        soup = bs(driver.page_source, \"lxml\")\n",
    "        reviews = soup.select(\".box-comment\")\n",
    "        nick_names = soup.select(\".writer-name\")\n",
    "        days = soup.select(\".day\")\n",
    "        recs = soup.select(\"#idLikeValue\")\n",
    "        \n",
    "        \n",
    "        # 리뷰 출력\n",
    "        for name, review, day, rec in zip(nick_names, reviews, days, recs):\n",
    "            name_text = name.text\n",
    "            review_text = review.text\n",
    "            day_text = day.text\n",
    "            rec_text = rec.text\n",
    "            print(f\"닉네임: {name_text}\\n리뷰: {review_text}\\n작성일: {day_text}\\n추천수: {rec_text}\")\n",
    "            print()\n",
    "        # 페이지 이동\n",
    "        if page_number == 10:  # 10페이지일 때\n",
    "            more = driver.find_element(By.CSS_SELECTOR, \"#paging_point > li:nth-child(11) > button\")\n",
    "            more.click()\n",
    "        elif page_number % 10 == 0: # 10dml qotndlfEo\n",
    "            more = driver.find_element(By.CSS_SELECTOR, \"#paging_point > li:nth-child(13) > button\")\n",
    "            more.click()\n",
    "\n",
    "        page_number += 1\n",
    "    else:\n",
    "        print(\"더 이상의 페이지가 없습니다.\")\n",
    "        break\n",
    "        \n",
    "# # # 웹 드라이버 종료\n",
    "# driver.quit()\n"
   ]
  },
  {
   "cell_type": "markdown",
   "id": "4b98f9d1-90c3-4a3a-a51e-d4fa34b45644",
   "metadata": {},
   "source": [
    "# csv 파일로 저장\n",
    "\n",
    "- csv파일로 뽑는 용"
   ]
  },
  {
   "cell_type": "code",
   "execution_count": 7,
   "id": "2d82032a-406b-4e01-a6d0-600e594dbf71",
   "metadata": {},
   "outputs": [
    {
     "name": "stdout",
     "output_type": "stream",
     "text": [
      "데이터가 cgv_reviews.csv에 성공적으로 저장되었습니다.\n"
     ]
    }
   ],
   "source": [
    "import csv\n",
    "\n",
    "# CSV 파일에 저장할 데이터를 담을 리스트\n",
    "data = []\n",
    "\n",
    "# 페이지 이동 함수\n",
    "def move_to_page(page_number):\n",
    "    try:\n",
    "        page_link = driver.find_element(By.XPATH, f\"//a[text()='{page_number}']\")\n",
    "        page_link.click()\n",
    "        time.sleep(1)  # 페이지 로딩을 기다립니다.\n",
    "        return True\n",
    "    except Exception as e:\n",
    "        print(f\"{page_number}페이지 이동 실패: {e}\")\n",
    "        return False\n",
    "\n",
    "# 페이지 이동 및 데이터 수집\n",
    "page_number = 1\n",
    "while page_number <= 9011:\n",
    "    if move_to_page(page_number):\n",
    "        # 현재 페이지의 리뷰 수집\n",
    "        soup = bs(driver.page_source, \"lxml\")\n",
    "        reviews = soup.select(\".box-comment\")\n",
    "        nick_names = soup.select(\".writer-name\")\n",
    "        days = soup.select(\".day\")\n",
    "        recs = soup.select(\"#idLikeValue\")\n",
    "        \n",
    "        # 리뷰 데이터를 리스트에 추가\n",
    "        for name, review, day, rec in zip(nick_names, reviews, days, recs):\n",
    "            name_text = name.text\n",
    "            review_text = review.text\n",
    "            day_text = day.text\n",
    "            rec_text = rec.text\n",
    "            data.append({'닉네임': name_text, '리뷰': review_text, '작성일': day_text, '추천수': rec_text})\n",
    "        \n",
    "        # 페이지 이동\n",
    "        if page_number == 10:  # 10페이지일 때\n",
    "            more = driver.find_element(By.CSS_SELECTOR, \"#paging_point > li:nth-child(11) > button\")\n",
    "            more.click()\n",
    "        elif page_number % 10 == 0: # 10dml qotndlfEo\n",
    "            more = driver.find_element(By.CSS_SELECTOR, \"#paging_point > li:nth-child(13) > button\")\n",
    "            more.click()\n",
    "\n",
    "        page_number += 1\n",
    "    else:\n",
    "        print(\"더 이상의 페이지가 없습니다.\")\n",
    "        break\n",
    "        \n",
    "\n",
    "# CSV 파일에 저장\n",
    "filename = \"cgv_crawling.csv\"\n",
    "with open(filename, 'w', newline='', encoding='utf-8') as csvfile:\n",
    "    fieldnames = ['닉네임', '리뷰', '작성일', '추천수']\n",
    "    writer = csv.DictWriter(csvfile, fieldnames=fieldnames)\n",
    "    \n",
    "    writer.writeheader()\n",
    "    \n",
    "    for row in data:\n",
    "        writer.writerow(row)\n",
    "\n",
    "print(f\"데이터가 {filename}에 성공적으로 저장되었습니다.\")\n"
   ]
  },
  {
   "cell_type": "code",
   "execution_count": null,
   "id": "b49afe47-674d-4206-9773-2c43ef69ac43",
   "metadata": {},
   "outputs": [],
   "source": []
  }
 ],
 "metadata": {
  "kernelspec": {
   "display_name": "Python 3 (ipykernel)",
   "language": "python",
   "name": "python3"
  },
  "language_info": {
   "codemirror_mode": {
    "name": "ipython",
    "version": 3
   },
   "file_extension": ".py",
   "mimetype": "text/x-python",
   "name": "python",
   "nbconvert_exporter": "python",
   "pygments_lexer": "ipython3",
   "version": "3.11.7"
  }
 },
 "nbformat": 4,
 "nbformat_minor": 5
}
