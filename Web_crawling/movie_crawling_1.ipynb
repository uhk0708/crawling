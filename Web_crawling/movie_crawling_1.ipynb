{
 "cells": [
  {
   "cell_type": "code",
   "execution_count": 1,
   "id": "c0368822-9f81-411e-b4a7-18f97d89771a",
   "metadata": {},
   "outputs": [],
   "source": [
    "from selenium import webdriver as wb\n",
    "from bs4 import BeautifulSoup as bs\n",
    "import time\n",
    "from selenium.webdriver.common.by import By"
   ]
  },
  {
   "cell_type": "code",
   "execution_count": 2,
   "id": "8a8df3c5-7232-4553-ab3b-da6e2a45741a",
   "metadata": {},
   "outputs": [],
   "source": [
    "driver = wb.Chrome()\n",
    "driver.get(\"url\")"
   ]
  },
  {
   "cell_type": "markdown",
   "id": "f1b35c9e-f86c-4fc8-9c8d-aa1bb0f6b676",
   "metadata": {},
   "source": [
    "# 리뷰 데이터 확인\n",
    "\n",
    "- 테스트용"
   ]
  },
  {
   "cell_type": "code",
   "execution_count": 1,
   "id": "15c3eeb9-1940-4391-898e-5946614471af",
   "metadata": {},
   "outputs": [],
   "source": [
    "  \n",
    "        \n",
    "# 리뷰 출력\n",
    "for name, review, day, rec in zip(nick_names, reviews, days, recs):\n",
    "            name_text = name.text\n",
    "            review_text = review.text\n",
    "            day_text = day.text\n",
    "            rec_text = rec.text\n",
    "            print(f\"닉네임: {name_text}\\n리뷰: {review_text}\\n작성일: {day_text}\\n추천수: {rec_text}\")\n",
    "            print()\n",
    "\n",
    "        \n",
    "# # # 웹 드라이버 종료\n",
    "# driver.quit()\n"
   ]
  },
  {
   "cell_type": "code",
   "execution_count": null,
   "id": "b49afe47-674d-4206-9773-2c43ef69ac43",
   "metadata": {},
   "outputs": [],
   "source": []
  }
 ],
 "metadata": {
  "kernelspec": {
   "display_name": "Python 3 (ipykernel)",
   "language": "python",
   "name": "python3"
  },
  "language_info": {
   "codemirror_mode": {
    "name": "ipython",
    "version": 3
   },
   "file_extension": ".py",
   "mimetype": "text/x-python",
   "name": "python",
   "nbconvert_exporter": "python",
   "pygments_lexer": "ipython3",
   "version": "3.11.7"
  }
 },
 "nbformat": 4,
 "nbformat_minor": 5
}
